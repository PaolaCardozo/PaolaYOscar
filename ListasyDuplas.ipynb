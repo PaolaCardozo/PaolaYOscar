{
  "nbformat": 4,
  "nbformat_minor": 0,
  "metadata": {
    "colab": {
      "provenance": [],
      "collapsed_sections": [],
      "include_colab_link": true
    },
    "kernelspec": {
      "name": "python3",
      "display_name": "Python 3"
    },
    "language_info": {
      "name": "python"
    }
  },
  "cells": [
    {
      "cell_type": "markdown",
      "metadata": {
        "id": "view-in-github",
        "colab_type": "text"
      },
      "source": [
        "<a href=\"https://colab.research.google.com/github/PaolaCardozo/PaolaYOscar/blob/main/Copia_de_Untitled1.ipynb\" target=\"_parent\"><img src=\"https://colab.research.google.com/assets/colab-badge.svg\" alt=\"Open In Colab\"/></a>"
      ]
    },
    {
      "cell_type": "code",
      "execution_count": null,
      "metadata": {
        "id": "sRM2ePyDQ3PW"
      },
      "outputs": [],
      "source": [
        "listamaterias=[]\n",
        "\n",
        "num_materias=int(input('ingrese la cantidad de materias: '))\n",
        "\n",
        "for i in range(num_materias):\n",
        "  materia=input('ingrese el nombre de la materia '+ str(i+1))\n",
        "  listamaterias.append(materia)\n",
        "\n",
        "print(listamaterias) \n",
        "\n",
        "notas=[]\n",
        "\n",
        "for i in range(len(listamaterias)):\n",
        "  while True:\n",
        "    notastring=input(\"ingrese la nota que espera de \"+listamaterias[i]+': ')\n",
        "    notastring=notastring.replace(',','.')\n",
        "    nota=float(notastring)\n",
        "    \n",
        "    if nota>5 or nota<0:\n",
        "      print(\"ingrese una nota valida\")\n",
        "    else: \n",
        "        notas.append(nota)\n",
        "        break\n",
        "\n",
        "print(notas)\n",
        "\n",
        "\n",
        "aprobadas=[]\n",
        "reprobadas=[]\n",
        "\n",
        "for i in range(len(listamaterias)):\n",
        "  if notas[i]<3:\n",
        "    reprobadas.append(listamaterias[i])\n",
        "  else:\n",
        "    aprobadas.append(listamaterias[i])\n",
        "\n",
        "print(\"Materias aprobadas\",aprobadas)\n",
        "print(\"Materias reprobadas\",reprobadas)"
      ]
    },
    {
      "cell_type": "code",
      "source": [
        "Palabra = input(\"Ingrese una palabra para confirmar si es palindromo \")\n",
        "Palabra2 = Palabra.replace(\" \",\"\")\n",
        "\n",
        "if str(Palabra2) == str(Palabra2)[::-1] :\n",
        "   print(\"La palabra \"+ Palabra + \" es Palindromo. \")\n",
        "else:\n",
        "   print(\"La palabra \"+ Palabra + \" NO es Palindromo. \")"
      ],
      "metadata": {
        "id": "PPsx4kcZVO46"
      },
      "execution_count": null,
      "outputs": []
    },
    {
      "cell_type": "code",
      "source": [
        "a = []\n",
        "b = []\n",
        "vector=int(input(\"Ingrese el tamaño del verctor: \"))\n",
        "\n",
        "for i in range(vector):\n",
        "  vectora=int(input('ingrese los valores para el vector a: '+ str(i+1) +\" \"))\n",
        "  a.append(vectora)\n",
        "\n",
        "for i in range(vector):\n",
        "  vectorb=int(input('ingrese los valores para el vector b: '+ str(i+1) +\" \"))\n",
        "  b.append(vectorb)\n",
        "\n",
        "product = 0\n",
        "\n",
        "for i in range(len(a)):\n",
        "    product += a[i]*b[i]\n",
        "print(\"El producto de los vectores\" + str(a) + \" y \" + str(b) + \" es \" + str(product)) "
      ],
      "metadata": {
        "id": "kBq1zaw5Vus7",
        "colab": {
          "base_uri": "https://localhost:8080/"
        },
        "outputId": "4d15c46f-56ac-45a5-dbcb-6fc6651b7b0d"
      },
      "execution_count": null,
      "outputs": [
        {
          "output_type": "stream",
          "name": "stdout",
          "text": [
            "Ingrese el tamaño del verctor: 2\n",
            "ingrese los valores para el vector a: 1 5\n",
            "ingrese los valores para el vector a: 2 4\n",
            "ingrese los valores para el vector b: 1 2\n",
            "ingrese los valores para el vector b: 2 8\n",
            "El producto de los vectores[5, 4] y [2, 8] es 42\n"
          ]
        }
      ]
    },
    {
      "cell_type": "code",
      "source": [
        "def es_numerico(cadena):\n",
        "    try:\n",
        "        int(cadena)\n",
        "        return True\n",
        "    except ValueError:\n",
        "        return False\n",
        "\n",
        "\n",
        "a=[]\n",
        "cont=1\n",
        "Num=0\n",
        "sum = 0\n",
        "sumsq = 0\n",
        "\n",
        "print(\"ingrese los numeros que desee recuerde que para finalizar escriba fin\")\n",
        "\n",
        "\n",
        "while Num != \"fin\":\n",
        "    if es_numerico(Num):\n",
        "        Num=str((input('ingrese los numero a calular '+ str(cont)+\": \"))) \n",
        "        a.append(Num)\n",
        "        cont=cont+1\n",
        "        \n",
        "        for Num in a:\n",
        "            if Num == \"fin\":\n",
        "                a.remove(\"fin\")\n",
        "                \n",
        "       \n",
        "    else:\n",
        "        print(\"el valor agregado NO es un numero\")\n",
        "        \n",
        "        for Num in a:\n",
        "            if Num == Num:\n",
        "                a.remove(Num)\n",
        "        \n",
        "        break\n",
        "#a[Num]=int(a[Num])\n",
        "\n",
        "for Num in a:\n",
        "      sum += int(Num)\n",
        "      sumsq += int(Num)**2\n",
        "        \n",
        "        \n",
        "prome = sum/(cont-2)\n",
        "stdev = (sumsq/cont-prome**2)**(1/2)   \n",
        "print('La media es', prome, ', y la desviación típica es ',stdev)\n",
        "\n",
        "\n"
      ],
      "metadata": {
        "id": "LPbtoe_xafPH",
        "colab": {
          "base_uri": "https://localhost:8080/"
        },
        "outputId": "61ec6ea0-5413-4b2d-fd81-679421d028af"
      },
      "execution_count": null,
      "outputs": [
        {
          "output_type": "stream",
          "name": "stdout",
          "text": [
            "ingrese los numeros que desee recuerde que para finalizar escriba fin\n",
            "ingrese los numero a calular 1: 1\n",
            "ingrese los numero a calular 2: 2\n",
            "ingrese los numero a calular 3: 6\n",
            "ingrese los numero a calular 4: 4\n",
            "ingrese los numero a calular 5: 8\n",
            "ingrese los numero a calular 6: 9\n",
            "ingrese los numero a calular 7: fin\n",
            "La media es 5.0 , y la desviación típica es  0.5\n"
          ]
        }
      ]
    },
    {
      "cell_type": "code",
      "source": [
        "articulo=float(input(\"Ingrese el valor del articulo: \"))\n",
        "pago=float(input(\"ingrese el valor pagado: \"))\n",
        "\n",
        "cambio=int(pago-articulo)\n",
        "\n",
        "faltante=articulo-pago\n",
        "\n",
        "if (cambio<0):\n",
        "  print(\"falta dinero para completar el pago, el faltante es: \",faltante)\n",
        "elif (cambio==0):\n",
        "  print(\"se pago la totalidad, no es necesario dar camnbio\")\n",
        "\n",
        "if (cambio>0):\n",
        "  print (\"el cambio a dar es de: \",cambio)\n",
        "\n",
        "  denominaciones=[100000,50000,20000,10000,5000,2000,1000,500,200,100,50]\n",
        "for denominacion in denominaciones:\n",
        "  cantidad=int(cambio//denominacion)\n",
        "  cambio=cambio%denominacion\n",
        "  if cantidad>0:\n",
        "    print(cantidad,\"de \",denominacion)"
      ],
      "metadata": {
        "colab": {
          "base_uri": "https://localhost:8080/"
        },
        "id": "7EKtXHLTbEcv",
        "outputId": "49c14f26-fe77-43ec-f2be-cebec91fb38b"
      },
      "execution_count": null,
      "outputs": [
        {
          "output_type": "stream",
          "name": "stdout",
          "text": [
            "Ingrese el valor del articulo: 18350\n",
            "ingrese el valor pagado: 20000\n",
            "el cambio a dar es de:  1650\n",
            "1 de  1000\n",
            "1 de  500\n",
            "1 de  100\n",
            "1 de  50\n"
          ]
        }
      ]
    }
  ]
}
