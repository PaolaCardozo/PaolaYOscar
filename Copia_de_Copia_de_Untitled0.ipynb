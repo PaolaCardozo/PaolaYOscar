{
  "nbformat": 4,
  "nbformat_minor": 0,
  "metadata": {
    "colab": {
      "provenance": [],
      "collapsed_sections": [],
      "authorship_tag": "ABX9TyP0uEVN9ykoqViDwIxtkPIa",
      "include_colab_link": true
    },
    "kernelspec": {
      "name": "python3",
      "display_name": "Python 3"
    },
    "language_info": {
      "name": "python"
    }
  },
  "cells": [
    {
      "cell_type": "markdown",
      "metadata": {
        "id": "view-in-github",
        "colab_type": "text"
      },
      "source": [
        "<a href=\"https://colab.research.google.com/github/PaolaCardozo/PaolaYOscar/blob/main/Copia_de_Copia_de_Untitled0.ipynb\" target=\"_parent\"><img src=\"https://colab.research.google.com/assets/colab-badge.svg\" alt=\"Open In Colab\"/></a>"
      ]
    },
    {
      "cell_type": "code",
      "execution_count": null,
      "metadata": {
        "id": "gHC81UMaLTeo"
      },
      "outputs": [],
      "source": [
        "print(\"Hello World\")\n",
        "\n",
        "\n",
        "\n",
        "  \n",
        "\n"
      ]
    },
    {
      "cell_type": "code",
      "source": [
        "name=input(\"Ingrese su nombre: \")\n",
        "print(\"Hola\",name)\n",
        "\n"
      ],
      "metadata": {
        "id": "29oEQiOmSKun"
      },
      "execution_count": null,
      "outputs": []
    },
    {
      "cell_type": "code",
      "source": [
        "try:\n",
        "  altura=float(input(\"ingrese su altura \"))\n",
        "except ValueError:\n",
        "  print(\"el valor no es un número\")\n",
        "if altura<=0:\n",
        "  print(\"ingrese un valor positivo\")\n",
        "else:\n",
        "  imc=24\n",
        "  peso=altura**2*imc\n",
        "  print(\"Su peso ideal es: \",round(peso,2))"
      ],
      "metadata": {
        "id": "rwRMsEUtaKCW"
      },
      "execution_count": null,
      "outputs": []
    },
    {
      "cell_type": "code",
      "source": [
        "numero1=int(input(\"Ingrese el intervalo de números minimo \"))\n",
        "numero2=int(input(\"Ingrese el intervalo de números maximo \"))+1\n",
        "\n",
        "  \n",
        "if numero1 < numero2:\n",
        "    for num in range(numero1,numero2,):\n",
        "      print(num)\n",
        "\n",
        "else:\n",
        "    print(\"El numero 1 deber ser menor a el numero 2\" ) \n",
        "\n"
      ],
      "metadata": {
        "id": "GTKKfncZe3-G"
      },
      "execution_count": null,
      "outputs": []
    },
    {
      "cell_type": "code",
      "source": [
        "from datetime import datetime, timedelta\n",
        "from time import strftime\n",
        "\n",
        "now = datetime.now()\n",
        "now_less_5hours=now - timedelta(hours=5)\n",
        "\n",
        "current_time = now_less_5hours.strftime(\"%H:%M:%S\")\n",
        "print(\"Current Time =\", current_time)\n",
        "print(now_less_5hours.isoweekday())\n",
        "\n",
        "dia=now_less_5hours.isoweekday()\n",
        "\n",
        "if (dia == 2 or dia==4):\n",
        "  print(\"hay clase\")\n",
        "else:\n",
        "  print(\"no hay clase\")"
      ],
      "metadata": {
        "id": "0rcGaMXJNEKZ"
      },
      "execution_count": null,
      "outputs": []
    },
    {
      "cell_type": "code",
      "source": [
        "contrasena=\"test\"\n",
        "\n",
        "while True:\n",
        "  entrada=input(\"Ingrese la contraseña: \")\n",
        "  if (contrasena==entrada or entrada==\"exit\"):\n",
        "    print(\"ingresó\")\n",
        "    break\n",
        "  else:\n",
        "    print(\"contraseña incorrecta\")"
      ],
      "metadata": {
        "id": "I46C8gmxNZQP"
      },
      "execution_count": null,
      "outputs": []
    }
  ]
}