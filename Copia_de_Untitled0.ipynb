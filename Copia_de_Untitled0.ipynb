{
  "nbformat": 4,
  "nbformat_minor": 0,
  "metadata": {
    "colab": {
      "provenance": [],
      "authorship_tag": "ABX9TyMIeA8ji5uG3gjr3/eZ7yw9",
      "include_colab_link": true
    },
    "kernelspec": {
      "name": "python3",
      "display_name": "Python 3"
    },
    "language_info": {
      "name": "python"
    }
  },
  "cells": [
    {
      "cell_type": "markdown",
      "metadata": {
        "id": "view-in-github",
        "colab_type": "text"
      },
      "source": [
        "<a href=\"https://colab.research.google.com/github/PaolaCardozo/PaolaYOscar/blob/main/Copia_de_Untitled0.ipynb\" target=\"_parent\"><img src=\"https://colab.research.google.com/assets/colab-badge.svg\" alt=\"Open In Colab\"/></a>"
      ]
    },
    {
      "cell_type": "code",
      "execution_count": null,
      "metadata": {
        "id": "gHC81UMaLTeo"
      },
      "outputs": [],
      "source": [
        "print(\"Hello World\")\n",
        "name=\"Carlos\"\n",
        "\n",
        "print(\"Hola\", name)\n",
        "\n",
        "altura=float(input(\"Ingrese su altura\"))\n",
        "if altura<=0:\n",
        "  print(\"ingrese un valor positivo\")\n",
        "else:\n",
        "  imc=24\n",
        "  peso=altura**2*imc\n",
        "  print(\"Su peso ideal es: \",round(peso,2))\n",
        "\n",
        "\n",
        "\n",
        "  \n",
        "\n"
      ]
    },
    {
      "cell_type": "code",
      "source": [
        "\n",
        "\n",
        "numero1=int(input(\"Ingrese el intervalo de números minimo \"))\n",
        "numero2=int(input(\"Ingrese el intervalo de números maximo \"))+1\n",
        "\n",
        " \n",
        "for num in range(numero1,numero2,1):\n",
        "    print(num)\n"
      ],
      "metadata": {
        "colab": {
          "base_uri": "https://localhost:8080/"
        },
        "id": "29oEQiOmSKun",
        "outputId": "74bcb893-05f9-41c3-e6dc-bf78dee92365"
      },
      "execution_count": 8,
      "outputs": [
        {
          "output_type": "stream",
          "name": "stdout",
          "text": [
            "Ingrese el intervalo de números minimo 2\n",
            "Ingrese el intervalo de números maximo 5\n",
            "2\n",
            "3\n",
            "4\n",
            "5\n"
          ]
        }
      ]
    },
    {
      "cell_type": "code",
      "source": [
        "from time import strftime\n",
        "now = datetime.now()\n",
        "now_less_5hours=now - timedelta(hours=5)\n",
        "\n",
        "current_time = now_less_5hours.strftime(\"%H:%M:%S\")\n",
        "print(\"current Time =\", current_time)\n",
        "print(now:less_5hours.isoweekday())\n",
        "\n",
        "dia=now_less_5hours.isoweekday()\n",
        "\n",
        "if (dia == 2 or dia==4):\n",
        "   print(\"Hay clase\")\n",
        "else:\n",
        "  print(\"No hay clase\")"
      ],
      "metadata": {
        "id": "rwRMsEUtaKCW"
      },
      "execution_count": null,
      "outputs": []
    },
    {
      "cell_type": "code",
      "source": [
        "contraseña=\"test\"\n",
        "\n",
        "while True:\n",
        "  entrada=input(\"Ingrese la contraseña: \")\n",
        "  if (contraseña==\"exit\" or entrada):\n",
        "    print(\"Ingreso\")\n",
        "    break\n",
        "  else:\n",
        "    print(\"Contraseña incorecta\")\n",
        "  "
      ],
      "metadata": {
        "id": "GTKKfncZe3-G"
      },
      "execution_count": null,
      "outputs": []
    }
  ]
}